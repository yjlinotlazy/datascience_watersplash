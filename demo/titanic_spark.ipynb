{
 "cells": [
  {
   "cell_type": "markdown",
   "metadata": {},
   "source": [
    "## A quick and simple example of random forest in spark\n",
    "\n",
    "Yet another notebook on the classic Kaggle titanic data set!\n",
    "\n",
    "https://www.kaggle.com/c/titanic"
   ]
  },
  {
   "cell_type": "code",
   "execution_count": 1,
   "metadata": {},
   "outputs": [],
   "source": [
    "from pyspark.sql import SparkSession\n",
    "from pyspark.sql.functions import col"
   ]
  },
  {
   "cell_type": "markdown",
   "metadata": {},
   "source": [
    "### Create a spark session\n",
    "\n",
    "`SparkSession` is a wrapper for spark context and sql context, making it convenient"
   ]
  },
  {
   "cell_type": "code",
   "execution_count": 2,
   "metadata": {},
   "outputs": [],
   "source": [
    "spark = SparkSession.builder.appName(\"titanic\").getOrCreate()"
   ]
  },
  {
   "cell_type": "markdown",
   "metadata": {},
   "source": [
    "### Load data\n",
    "The data includes header. Let pyspark figure out data types"
   ]
  },
  {
   "cell_type": "code",
   "execution_count": 3,
   "metadata": {},
   "outputs": [
    {
     "data": {
      "text/plain": [
       "[Row(PassengerId=1, Survived=0, Pclass=3, Name='Braund, Mr. Owen Harris', Sex='male', Age=22.0, SibSp=1, Parch=0, Ticket='A/5 21171', Fare=7.25, Cabin=None, Embarked='S'),\n",
       " Row(PassengerId=2, Survived=1, Pclass=1, Name='Cumings, Mrs. John Bradley (Florence Briggs Thayer)', Sex='female', Age=38.0, SibSp=1, Parch=0, Ticket='PC 17599', Fare=71.2833, Cabin='C85', Embarked='C')]"
      ]
     },
     "execution_count": 3,
     "metadata": {},
     "output_type": "execute_result"
    }
   ],
   "source": [
    "datapath = 'data/titanic/train.csv'\n",
    "raw = spark.read.csv(datapath, header=True, inferSchema=True)\n",
    "raw.head(2)"
   ]
  },
  {
   "cell_type": "markdown",
   "metadata": {},
   "source": [
    "From a quick look, looks like passengerID and Name are just identifiers for the\n",
    "passengers and do not give useful information. Drop them."
   ]
  },
  {
   "cell_type": "code",
   "execution_count": 4,
   "metadata": {},
   "outputs": [],
   "source": [
    "raw = raw.drop(\"PassengerId\").drop(\"Name\")"
   ]
  },
  {
   "cell_type": "markdown",
   "metadata": {},
   "source": [
    "Create a table for sql queries"
   ]
  },
  {
   "cell_type": "code",
   "execution_count": 5,
   "metadata": {},
   "outputs": [],
   "source": [
    "raw.createOrReplaceTempView(\"stats\")"
   ]
  },
  {
   "cell_type": "markdown",
   "metadata": {},
   "source": [
    "### See number of missing values\n",
    "\n",
    "`count` tells you the number of non-empty values. Use it to see how dirty the data are"
   ]
  },
  {
   "cell_type": "code",
   "execution_count": 6,
   "metadata": {},
   "outputs": [
    {
     "name": "stdout",
     "output_type": "stream",
     "text": [
      "+-------+--------+------+---+---+-----+-----+------+----+-----+--------+\n",
      "|summary|Survived|Pclass|Sex|Age|SibSp|Parch|Ticket|Fare|Cabin|Embarked|\n",
      "+-------+--------+------+---+---+-----+-----+------+----+-----+--------+\n",
      "|  count|     891|   891|891|714|  891|  891|   891| 891|  204|     889|\n",
      "+-------+--------+------+---+---+-----+-----+------+----+-----+--------+\n",
      "\n"
     ]
    }
   ],
   "source": [
    "raw.describe().filter(col(\"summary\")==\"count\").show()"
   ]
  },
  {
   "cell_type": "markdown",
   "metadata": {},
   "source": [
    "As a quick guess for numeric vs categorical. Super unreliable. You should read data description."
   ]
  },
  {
   "cell_type": "code",
   "execution_count": 7,
   "metadata": {},
   "outputs": [
    {
     "data": {
      "text/plain": [
       "[('Survived', 'int'),\n",
       " ('Pclass', 'int'),\n",
       " ('Sex', 'string'),\n",
       " ('Age', 'double'),\n",
       " ('SibSp', 'int'),\n",
       " ('Parch', 'int'),\n",
       " ('Ticket', 'string'),\n",
       " ('Fare', 'double'),\n",
       " ('Cabin', 'string'),\n",
       " ('Embarked', 'string')]"
      ]
     },
     "execution_count": 7,
     "metadata": {},
     "output_type": "execute_result"
    }
   ],
   "source": [
    "raw.dtypes"
   ]
  },
  {
   "cell_type": "markdown",
   "metadata": {},
   "source": [
    "### Get mean of numerical columns\n",
    "Use built in summary method"
   ]
  },
  {
   "cell_type": "code",
   "execution_count": 8,
   "metadata": {},
   "outputs": [
    {
     "name": "stdout",
     "output_type": "stream",
     "text": [
      "+-----------------+-----------------+------------------+-------------------+----------------+\n",
      "|           Pclass|              Age|             SibSp|              Parch|            Fare|\n",
      "+-----------------+-----------------+------------------+-------------------+----------------+\n",
      "|2.308641975308642|29.69911764705882|0.5230078563411896|0.38159371492704824|32.2042079685746|\n",
      "+-----------------+-----------------+------------------+-------------------+----------------+\n",
      "\n"
     ]
    }
   ],
   "source": [
    "raw.describe().select([\"Pclass\", \"Age\", \"SibSp\", \"Parch\", \"Fare\"]).filter(col(\"summary\")==\"mean\").show()"
   ]
  },
  {
   "cell_type": "markdown",
   "metadata": {},
   "source": [
    "### Get mode of categorical columns"
   ]
  },
  {
   "cell_type": "code",
   "execution_count": 9,
   "metadata": {},
   "outputs": [],
   "source": [
    "def get_mode(col):\n",
    "    spark.sql(\"\"\"\n",
    "    select\n",
    "       sum(case when {} is not null then 1 else 0 end) cnt, {}\n",
    "    from stats\n",
    "    group by {}\n",
    "    order by 1 desc\n",
    "    limit 1\n",
    "    \"\"\".format(col, col, col)).show()"
   ]
  },
  {
   "cell_type": "code",
   "execution_count": 10,
   "metadata": {},
   "outputs": [
    {
     "name": "stdout",
     "output_type": "stream",
     "text": [
      "+---+----+\n",
      "|cnt| Sex|\n",
      "+---+----+\n",
      "|577|male|\n",
      "+---+----+\n",
      "\n",
      "+---+------+\n",
      "|cnt|Ticket|\n",
      "+---+------+\n",
      "|  7|  1601|\n",
      "+---+------+\n",
      "\n",
      "+---+-------+\n",
      "|cnt|  Cabin|\n",
      "+---+-------+\n",
      "|  4|B96 B98|\n",
      "+---+-------+\n",
      "\n",
      "+---+--------+\n",
      "|cnt|Embarked|\n",
      "+---+--------+\n",
      "|644|       S|\n",
      "+---+--------+\n",
      "\n"
     ]
    }
   ],
   "source": [
    "get_mode(\"Sex\")\n",
    "get_mode(\"Ticket\")\n",
    "get_mode(\"Cabin\")\n",
    "get_mode(\"Embarked\")"
   ]
  },
  {
   "cell_type": "code",
   "execution_count": 11,
   "metadata": {},
   "outputs": [
    {
     "data": {
      "text/plain": [
       "[Row(Survived=0, Pclass=3, Sex='male', Age=22.0, SibSp=1, Parch=0, Fare=7.25, Embarked='S'),\n",
       " Row(Survived=1, Pclass=1, Sex='female', Age=38.0, SibSp=1, Parch=0, Fare=71.2833, Embarked='C'),\n",
       " Row(Survived=1, Pclass=3, Sex='female', Age=26.0, SibSp=0, Parch=0, Fare=7.925, Embarked='S')]"
      ]
     },
     "execution_count": 11,
     "metadata": {},
     "output_type": "execute_result"
    }
   ],
   "source": [
    "## No need to keep columns that are almost all different categorical values\n",
    "raw = raw.drop(\"Ticket\").drop(\"Cabin\")\n",
    "raw.head(3)"
   ]
  },
  {
   "cell_type": "code",
   "execution_count": 12,
   "metadata": {},
   "outputs": [],
   "source": [
    "# Fillnas using median of numerical values and mode for categorical, obtained above\n",
    "raw = raw.fillna({\"Age\": 30, \"Embarked\": \"S\"})"
   ]
  },
  {
   "cell_type": "code",
   "execution_count": 13,
   "metadata": {},
   "outputs": [
    {
     "name": "stdout",
     "output_type": "stream",
     "text": [
      "+-------+--------+------+---+---+-----+-----+----+--------+\n",
      "|summary|Survived|Pclass|Sex|Age|SibSp|Parch|Fare|Embarked|\n",
      "+-------+--------+------+---+---+-----+-----+----+--------+\n",
      "|  count|     891|   891|891|891|  891|  891| 891|     891|\n",
      "+-------+--------+------+---+---+-----+-----+----+--------+\n",
      "\n"
     ]
    }
   ],
   "source": [
    "# Check NA again. This time there should be no NA\n",
    "raw.describe().filter(col(\"summary\")==\"count\").show()"
   ]
  },
  {
   "cell_type": "markdown",
   "metadata": {},
   "source": [
    "### Now, take a small sample and plot with seaborn"
   ]
  },
  {
   "cell_type": "code",
   "execution_count": 14,
   "metadata": {},
   "outputs": [],
   "source": [
    "subset, _ = raw.randomSplit([0.9, 0.1])"
   ]
  },
  {
   "cell_type": "code",
   "execution_count": 15,
   "metadata": {},
   "outputs": [],
   "source": [
    "df = subset.toPandas()"
   ]
  },
  {
   "cell_type": "code",
   "execution_count": 16,
   "metadata": {},
   "outputs": [
    {
     "data": {
      "text/html": [
       "<div>\n",
       "<style scoped>\n",
       "    .dataframe tbody tr th:only-of-type {\n",
       "        vertical-align: middle;\n",
       "    }\n",
       "\n",
       "    .dataframe tbody tr th {\n",
       "        vertical-align: top;\n",
       "    }\n",
       "\n",
       "    .dataframe thead th {\n",
       "        text-align: right;\n",
       "    }\n",
       "</style>\n",
       "<table border=\"1\" class=\"dataframe\">\n",
       "  <thead>\n",
       "    <tr style=\"text-align: right;\">\n",
       "      <th></th>\n",
       "      <th>Survived</th>\n",
       "      <th>Pclass</th>\n",
       "      <th>Sex</th>\n",
       "      <th>Age</th>\n",
       "      <th>SibSp</th>\n",
       "      <th>Parch</th>\n",
       "      <th>Fare</th>\n",
       "      <th>Embarked</th>\n",
       "    </tr>\n",
       "  </thead>\n",
       "  <tbody>\n",
       "    <tr>\n",
       "      <th>0</th>\n",
       "      <td>0</td>\n",
       "      <td>1</td>\n",
       "      <td>female</td>\n",
       "      <td>2.0</td>\n",
       "      <td>1</td>\n",
       "      <td>2</td>\n",
       "      <td>151.5500</td>\n",
       "      <td>S</td>\n",
       "    </tr>\n",
       "    <tr>\n",
       "      <th>1</th>\n",
       "      <td>0</td>\n",
       "      <td>1</td>\n",
       "      <td>female</td>\n",
       "      <td>25.0</td>\n",
       "      <td>1</td>\n",
       "      <td>2</td>\n",
       "      <td>151.5500</td>\n",
       "      <td>S</td>\n",
       "    </tr>\n",
       "    <tr>\n",
       "      <th>2</th>\n",
       "      <td>0</td>\n",
       "      <td>1</td>\n",
       "      <td>female</td>\n",
       "      <td>50.0</td>\n",
       "      <td>0</td>\n",
       "      <td>0</td>\n",
       "      <td>28.7125</td>\n",
       "      <td>C</td>\n",
       "    </tr>\n",
       "  </tbody>\n",
       "</table>\n",
       "</div>"
      ],
      "text/plain": [
       "   Survived  Pclass     Sex   Age  SibSp  Parch      Fare Embarked\n",
       "0         0       1  female   2.0      1      2  151.5500        S\n",
       "1         0       1  female  25.0      1      2  151.5500        S\n",
       "2         0       1  female  50.0      0      0   28.7125        C"
      ]
     },
     "execution_count": 16,
     "metadata": {},
     "output_type": "execute_result"
    }
   ],
   "source": [
    "df.head(3)"
   ]
  },
  {
   "cell_type": "markdown",
   "metadata": {},
   "source": [
    "Plot various ways to segment passengers and see if survival rates are different"
   ]
  },
  {
   "cell_type": "code",
   "execution_count": 17,
   "metadata": {},
   "outputs": [],
   "source": [
    "import seaborn as sns\n",
    "sns.set(style=\"whitegrid\")"
   ]
  },
  {
   "cell_type": "code",
   "execution_count": 18,
   "metadata": {},
   "outputs": [
    {
     "data": {
      "text/plain": [
       "<seaborn.axisgrid.FacetGrid at 0x116006eb8>"
      ]
     },
     "execution_count": 18,
     "metadata": {},
     "output_type": "execute_result"
    },
    {
     "data": {
      "image/png": "[encoded data removed]",
      "text/plain": [
       "<Figure size 415.3x360 with 1 Axes>"
      ]
     },
     "metadata": {
      "needs_background": "light"
     },
     "output_type": "display_data"
    }
   ],
   "source": [
    "# Embarked\n",
    "sns.catplot(data=df, x=\"Pclass\", y=\"Survived\", hue=\"Embarked\", kind=\"bar\", palette=\"muted\")"
   ]
  },
  {
   "cell_type": "code",
   "execution_count": 19,
   "metadata": {},
   "outputs": [
    {
     "data": {
      "text/plain": [
       "<seaborn.axisgrid.FacetGrid at 0x11620d278>"
      ]
     },
     "execution_count": 19,
     "metadata": {},
     "output_type": "execute_result"
    },
    {
     "data": {
      "image/png": "[encoded data removed]",
      "text/plain": [
       "<Figure size 432.85x360 with 1 Axes>"
      ]
     },
     "metadata": {
      "needs_background": "light"
     },
     "output_type": "display_data"
    }
   ],
   "source": [
    "# Gender\n",
    "sns.catplot(data=df, x=\"Pclass\", y=\"Survived\", hue=\"Sex\", kind=\"bar\", palette=\"muted\")"
   ]
  },
  {
   "cell_type": "code",
   "execution_count": 20,
   "metadata": {},
   "outputs": [
    {
     "data": {
      "text/plain": [
       "<matplotlib.axes._subplots.AxesSubplot at 0x118497a20>"
      ]
     },
     "execution_count": 20,
     "metadata": {},
     "output_type": "execute_result"
    },
    {
     "data": {
      "image/png": "[encoded data removed]",
      "text/plain": [
       "<Figure size 432x288 with 1 Axes>"
      ]
     },
     "metadata": {
      "needs_background": "light"
     },
     "output_type": "display_data"
    }
   ],
   "source": [
    "# How about age?\n",
    "sns.boxplot(data=df, x=\"Survived\", y=\"Age\", hue=\"Sex\")"
   ]
  },
  {
   "cell_type": "markdown",
   "metadata": {},
   "source": [
    "Use Spark's machine learning library to process features and train a model"
   ]
  },
  {
   "cell_type": "code",
   "execution_count": 21,
   "metadata": {},
   "outputs": [],
   "source": [
    "from pyspark.ml.classification import RandomForestClassifier\n",
    "from pyspark.ml.feature import StringIndexer, OneHotEncoderEstimator, VectorAssembler"
   ]
  },
  {
   "cell_type": "code",
   "execution_count": 22,
   "metadata": {},
   "outputs": [],
   "source": [
    "cat_cols = ['Pclass', 'Sex', 'Embarked', 'SibSp', 'Parch']"
   ]
  },
  {
   "cell_type": "markdown",
   "metadata": {},
   "source": [
    "For all categorical columns, turn into indices and do one hot encoding"
   ]
  },
  {
   "cell_type": "code",
   "execution_count": 23,
   "metadata": {},
   "outputs": [
    {
     "name": "stdout",
     "output_type": "stream",
     "text": [
      "Processing Pclass\n",
      "Processing Sex\n",
      "Processing Embarked\n",
      "Processing SibSp\n",
      "Processing Parch\n"
     ]
    }
   ],
   "source": [
    "for col_name in cat_cols:\n",
    "    print(\"Processing\", col_name)\n",
    "    indexer = StringIndexer(inputCol=col_name, outputCol=col_name + 'Index')\n",
    "    indexed = indexer.fit(raw)\n",
    "    raw = indexed.transform(raw)\n",
    "    encoder = OneHotEncoderEstimator(inputCols=[indexer.getOutputCol()],\n",
    "                                    outputCols=[col_name+'classVec'])\n",
    "    raw = encoder.fit(raw).transform(raw)"
   ]
  },
  {
   "cell_type": "code",
   "execution_count": 24,
   "metadata": {},
   "outputs": [
    {
     "data": {
      "text/plain": [
       "[Row(Survived=0, Pclass=3, Sex='male', Age=22.0, SibSp=1, Parch=0, Fare=7.25, Embarked='S', PclassIndex=0.0, PclassclassVec=SparseVector(2, {0: 1.0}), SexIndex=0.0, SexclassVec=SparseVector(1, {0: 1.0}), EmbarkedIndex=0.0, EmbarkedclassVec=SparseVector(2, {0: 1.0}), SibSpIndex=1.0, SibSpclassVec=SparseVector(6, {1: 1.0}), ParchIndex=0.0, ParchclassVec=SparseVector(6, {0: 1.0})),\n",
       " Row(Survived=1, Pclass=1, Sex='female', Age=38.0, SibSp=1, Parch=0, Fare=71.2833, Embarked='C', PclassIndex=1.0, PclassclassVec=SparseVector(2, {1: 1.0}), SexIndex=1.0, SexclassVec=SparseVector(1, {}), EmbarkedIndex=1.0, EmbarkedclassVec=SparseVector(2, {1: 1.0}), SibSpIndex=1.0, SibSpclassVec=SparseVector(6, {1: 1.0}), ParchIndex=0.0, ParchclassVec=SparseVector(6, {0: 1.0})),\n",
       " Row(Survived=1, Pclass=3, Sex='female', Age=26.0, SibSp=0, Parch=0, Fare=7.925, Embarked='S', PclassIndex=0.0, PclassclassVec=SparseVector(2, {0: 1.0}), SexIndex=1.0, SexclassVec=SparseVector(1, {}), EmbarkedIndex=0.0, EmbarkedclassVec=SparseVector(2, {0: 1.0}), SibSpIndex=0.0, SibSpclassVec=SparseVector(6, {0: 1.0}), ParchIndex=0.0, ParchclassVec=SparseVector(6, {0: 1.0}))]"
      ]
     },
     "execution_count": 24,
     "metadata": {},
     "output_type": "execute_result"
    }
   ],
   "source": [
    "raw.head(3)"
   ]
  },
  {
   "cell_type": "markdown",
   "metadata": {},
   "source": [
    "Put together numerical and processed categorical features"
   ]
  },
  {
   "cell_type": "code",
   "execution_count": 25,
   "metadata": {},
   "outputs": [],
   "source": [
    "numericCols = ['Age', 'Fare']"
   ]
  },
  {
   "cell_type": "code",
   "execution_count": 26,
   "metadata": {},
   "outputs": [
    {
     "data": {
      "text/plain": [
       "['PclassclassVec',\n",
       " 'SexclassVec',\n",
       " 'EmbarkedclassVec',\n",
       " 'SibSpclassVec',\n",
       " 'ParchclassVec',\n",
       " 'Age',\n",
       " 'Fare']"
      ]
     },
     "execution_count": 26,
     "metadata": {},
     "output_type": "execute_result"
    }
   ],
   "source": [
    "feature_cols = [c + \"classVec\" for c in cat_cols] + numericCols\n",
    "feature_cols"
   ]
  },
  {
   "cell_type": "markdown",
   "metadata": {},
   "source": [
    "Use `VectorAssembler` to assemble features into arrays"
   ]
  },
  {
   "cell_type": "code",
   "execution_count": 27,
   "metadata": {},
   "outputs": [],
   "source": [
    "assembler = VectorAssembler(inputCols=feature_cols, outputCol=\"features\")"
   ]
  },
  {
   "cell_type": "code",
   "execution_count": 28,
   "metadata": {},
   "outputs": [],
   "source": [
    "processed = assembler.transform(raw)"
   ]
  },
  {
   "cell_type": "code",
   "execution_count": 29,
   "metadata": {},
   "outputs": [
    {
     "data": {
      "text/plain": [
       "Row(Survived=0, Pclass=3, Sex='male', Age=22.0, SibSp=1, Parch=0, Fare=7.25, Embarked='S', PclassIndex=0.0, PclassclassVec=SparseVector(2, {0: 1.0}), SexIndex=0.0, SexclassVec=SparseVector(1, {0: 1.0}), EmbarkedIndex=0.0, EmbarkedclassVec=SparseVector(2, {0: 1.0}), SibSpIndex=1.0, SibSpclassVec=SparseVector(6, {1: 1.0}), ParchIndex=0.0, ParchclassVec=SparseVector(6, {0: 1.0}), features=SparseVector(19, {0: 1.0, 2: 1.0, 3: 1.0, 6: 1.0, 11: 1.0, 17: 22.0, 18: 7.25}))"
      ]
     },
     "execution_count": 29,
     "metadata": {},
     "output_type": "execute_result"
    }
   ],
   "source": [
    "processed.head()"
   ]
  },
  {
   "cell_type": "markdown",
   "metadata": {},
   "source": [
    "Fit a random forest model"
   ]
  },
  {
   "cell_type": "code",
   "execution_count": 30,
   "metadata": {},
   "outputs": [],
   "source": [
    "clf = RandomForestClassifier(featuresCol=\"features\", labelCol='Survived', numTrees=200,\n",
    "                             maxDepth=4)"
   ]
  },
  {
   "cell_type": "markdown",
   "metadata": {},
   "source": [
    "Split into train and test data. For simplicity, there's no cross validation partition"
   ]
  },
  {
   "cell_type": "code",
   "execution_count": 31,
   "metadata": {},
   "outputs": [],
   "source": [
    "train, test = processed.randomSplit([0.7, 0.3])"
   ]
  },
  {
   "cell_type": "markdown",
   "metadata": {},
   "source": [
    "Fit, predict, and measure"
   ]
  },
  {
   "cell_type": "code",
   "execution_count": 32,
   "metadata": {},
   "outputs": [],
   "source": [
    "clf_fit = clf.fit(train)"
   ]
  },
  {
   "cell_type": "code",
   "execution_count": 33,
   "metadata": {},
   "outputs": [
    {
     "data": {
      "text/plain": [
       "Row(features=SparseVector(19, {1: 1.0, 3: 1.0, 6: 1.0, 13: 1.0, 17: 25.0, 18: 151.55}), rawPrediction=DenseVector([30.6165, 169.3835]), probability=DenseVector([0.1531, 0.8469]), prediction=1.0)"
      ]
     },
     "execution_count": 33,
     "metadata": {},
     "output_type": "execute_result"
    }
   ],
   "source": [
    "pred = clf_fit.transform(test.select(\"features\"))\n",
    "pred.head()"
   ]
  },
  {
   "cell_type": "code",
   "execution_count": 34,
   "metadata": {},
   "outputs": [],
   "source": [
    "pred = pred.toPandas()['prediction']"
   ]
  },
  {
   "cell_type": "code",
   "execution_count": 35,
   "metadata": {},
   "outputs": [],
   "source": [
    "y_true = test.toPandas()['Survived']"
   ]
  },
  {
   "cell_type": "code",
   "execution_count": 36,
   "metadata": {},
   "outputs": [],
   "source": [
    "from sklearn.metrics import f1_score, accuracy_score"
   ]
  },
  {
   "cell_type": "code",
   "execution_count": 37,
   "metadata": {},
   "outputs": [
    {
     "data": {
      "text/plain": [
       "0.7446808510638298"
      ]
     },
     "execution_count": 37,
     "metadata": {},
     "output_type": "execute_result"
    }
   ],
   "source": [
    "f1_score(y_pred=pred, y_true=y_true)"
   ]
  },
  {
   "cell_type": "code",
   "execution_count": 38,
   "metadata": {},
   "outputs": [
    {
     "data": {
      "text/plain": [
       "0.8303886925795053"
      ]
     },
     "execution_count": 38,
     "metadata": {},
     "output_type": "execute_result"
    }
   ],
   "source": [
    "accuracy_score(y_pred=pred, y_true=y_true)"
   ]
  }
 ],
 "metadata": {
  "kernelspec": {
   "display_name": "Python [conda env:th]",
   "language": "python",
   "name": "conda-env-th-py"
  },
  "language_info": {
   "codemirror_mode": {
    "name": "ipython",
    "version": 3
   },
   "file_extension": ".py",
   "mimetype": "text/x-python",
   "name": "python",
   "nbconvert_exporter": "python",
   "pygments_lexer": "ipython3",
   "version": "3.7.0"
  }
 },
 "nbformat": 4,
 "nbformat_minor": 2
}
