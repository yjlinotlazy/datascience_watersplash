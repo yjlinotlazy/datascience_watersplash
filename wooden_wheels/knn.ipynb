{
 "cells": [
  {
   "cell_type": "markdown",
   "id": "9aaa2e77-e51a-4acc-86dd-505f27088688",
   "metadata": {},
   "source": [
    "# K Nearest Neighbors From Scratch\n",
    "\n",
    "KNN is a conceptually simple but effective algorithm that is commonly used in classification tasks. With existing knowledge about how data points of different classes are located in different clusters, we make predictions on the classes of new data points. Basic requisite for KNN to work well:\n",
    " * Different classes indeed form well-isolated clusters\n",
    " * We have a good distance function such that d(p1, p2) is small when p1 and p2 are from the same class and big when p1 and p2 are from different classes."
   ]
  },
  {
   "cell_type": "code",
   "execution_count": null,
   "id": "f72962f1-4198-47be-bc4c-e5d20bc23f72",
   "metadata": {},
   "outputs": [],
   "source": []
  }
 ],
 "metadata": {
  "kernelspec": {
   "display_name": "Python 3 (ipykernel)",
   "language": "python",
   "name": "python3"
  },
  "language_info": {
   "codemirror_mode": {
    "name": "ipython",
    "version": 3
   },
   "file_extension": ".py",
   "mimetype": "text/x-python",
   "name": "python",
   "nbconvert_exporter": "python",
   "pygments_lexer": "ipython3",
   "version": "3.12.11"
  }
 },
 "nbformat": 4,
 "nbformat_minor": 5
}
