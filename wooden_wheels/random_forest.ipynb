{
 "cells": [
  {
   "cell_type": "markdown",
   "metadata": {},
   "source": [
    "# Implement random forest from scratch, start from decision treee"
   ]
  },
  {
   "cell_type": "markdown",
   "metadata": {},
   "source": [
    "## Decision tree\n",
    "\n",
    "Decision tree is a machine learning method that makes sequential binary choices at\n",
    "each step based on one feature value per step, until a final value is assigned to the\n",
    "target variable.\n",
    "\n",
    "A decision tree on whether to date or not\n",
    "```\n",
    "        weather\n",
    "        /     \\\n",
    "      cold   hot\n",
    "      /         \\\n",
    "    location   time\n",
    "    /  \\        / \\\n",
    "   in  out  early  late\n",
    "  /      \\    /     \\\n",
    " Yes     No  No    Yes\n",
    "```\n",
    "\n",
    "It's called decision tree because one needs to transverse through a tree to\n",
    "make a final decision. Machine model comes in when figuring out how the tree should be\n",
    "constructed, i.e. what features to use and what values are used to split at each features."
   ]
  },
  {
   "cell_type": "markdown",
   "metadata": {},
   "source": [
    "### Entropy & Where to split?\n",
    "\n",
    "At each step, ideally we split a heterogeneous pool into two homogeneous pools.\n",
    "To get close to that, we aim to reduce total entropy. This measure is also called\n",
    "information gain. We pick the value such that information gain is maximized when\n",
    "split optimally.\n",
    "\n",
    "Assuming binary classification, entropy is\n",
    "$$Entropy = -p_0\\log_2 p_0 - p_1\\log_2 p_1$$\n",
    "Where $p_0, p_1$ is the proprotion of samples in the two classes respectively."
   ]
  },
  {
   "cell_type": "code",
   "execution_count": 1,
   "metadata": {},
   "outputs": [],
   "source": [
    "import math\n",
    "import numpy as np\n",
    "import pandas as pd\n",
    "\n",
    "def entropy(Y):\n",
    "    \"\"\"\n",
    "    sum of p0 log2(p0) + p1 log2(p1)\n",
    "    \"\"\"\n",
    "    total_ent = 0\n",
    "    size = len(Y)\n",
    "    p = sum([y == 1 for y in Y]) / size\n",
    "    if p == 0 or p == 1:\n",
    "        return 0\n",
    "    else:\n",
    "        return -p * math.log(p, 2) - (1 - p) * math.log(1 - p, 2)"
   ]
  },
  {
   "cell_type": "markdown",
   "metadata": {},
   "source": [
    "Sanity check entropy calculation. It should be like a bell"
   ]
  },
  {
   "cell_type": "code",
   "execution_count": 3,
   "metadata": {},
   "outputs": [
    {
     "data": {
      "image/png": "[encoded data removed]",
      "text/plain": [
       "<Figure size 432x288 with 1 Axes>"
      ]
     },
     "metadata": {},
     "output_type": "display_data"
    }
   ],
   "source": [
    "import matplotlib.pyplot as plt\n",
    "import seaborn as sns\n",
    "sns.set_style('darkgrid')\n",
    "\n",
    "samples = [[0] * x + [1] * (100 - x) for x in range(100)]\n",
    "proportions = [sum(s) / 100 for s in samples]\n",
    "entropies = [entropy(s) for s in samples]\n",
    "plt.plot()\n",
    "plt.scatter(proportions, entropies)\n",
    "plt.xlabel(\"Proportion of class 1\", fontsize=15)\n",
    "plt.ylabel(\"Entropy\", fontsize=15)\n",
    "plt.show()"
   ]
  },
  {
   "cell_type": "markdown",
   "metadata": {},
   "source": [
    "An example of how we can use entropy reduction to guide spliting"
   ]
  },
  {
   "cell_type": "code",
   "execution_count": 4,
   "metadata": {},
   "outputs": [
    {
     "name": "stdout",
     "output_type": "stream",
     "text": [
      "Entropy before splitting: 1.0\n",
      "Entropy after a good split 0.7219280948873623\n",
      "Entropy after a bad split 0.9709505944546686\n"
     ]
    }
   ],
   "source": [
    "before = [0] * 10 + [1] * 10\n",
    "print(\"Entropy before splitting:\", entropy(before))\n",
    "\n",
    "split1 = [0] * 8 + [1] *2\n",
    "split2 = [0] * 2 + [1] * 8\n",
    "entropy_good = entropy(split1) * len(split1) / len(before) \\\n",
    "    + entropy(split2) * len(split2) / len(before)\n",
    "print(\"Entropy after a good split\", entropy_good)\n",
    "\n",
    "split1 = [0] * 6 + [1] *4\n",
    "split2 = [0] * 4 + [1] * 6\n",
    "entropy_bad = entropy(split1) * len(split1) / len(before) \\\n",
    "    + entropy(split2) * len(split2) / len(before)\n",
    "print(\"Entropy after a bad split\", entropy_bad)"
   ]
  },
  {
   "cell_type": "markdown",
   "metadata": {},
   "source": [
    "For any given feature, we want to find the split where entropy reduction is maximized.\n",
    "Iterate through all possible splitting point to do so.\n",
    "To find the best feature to split first, do an exaustive search for all splitting points\n",
    "of all features.\n",
    "\n",
    "First implement a method to find a optimal splitting point for one feature"
   ]
  },
  {
   "cell_type": "code",
   "execution_count": 5,
   "metadata": {},
   "outputs": [
    {
     "data": {
      "text/plain": [
       "(1, 0)"
      ]
     },
     "execution_count": 5,
     "metadata": {},
     "output_type": "execute_result"
    }
   ],
   "source": [
    "def split_entropy(values, labels):\n",
    "    zipped = list(zip(values, labels))\n",
    "    zipped.sort(key=lambda x: x[0])\n",
    "    best_split, best_entr = values[0], entropy(labels)\n",
    "    size = len(labels)\n",
    "    for point in zipped:\n",
    "        # split samples based on split value\n",
    "        small_points = [p[1] for p in zipped if p[0] <= point[0]]\n",
    "        large_points = [p[1] for p in zipped if p[0] > point[0]]\n",
    "        if not small_points or not large_points:\n",
    "            continue\n",
    "        # calculate new entropy\n",
    "        sum_entropy = entropy(small_points) * len(small_points) / size\\\n",
    "            + entropy(large_points) * len(large_points) / size\n",
    "        # update best entropy if necessary\n",
    "        if sum_entropy < best_entr:\n",
    "            best_split, best_entr = point[0], sum_entropy\n",
    "    return best_split, best_entr\n",
    "\n",
    "# Example\n",
    "split_entropy([1, 2, 3, 4], [0, 0, 0, 0])"
   ]
  },
  {
   "cell_type": "markdown",
   "metadata": {},
   "source": [
    "### Tree Nodes\n",
    "\n",
    "We use nodes to represent each decision point. The decision to branch left or\n",
    "right is determined by the feature value of the sample. For each node,\n",
    "we need to know which feature it's associated with and what value to use as the splitting\n",
    "point. For analytic purpose later, also make a `height` method to get height of the subtree\n",
    "rooted at the node."
   ]
  },
  {
   "cell_type": "code",
   "execution_count": 6,
   "metadata": {},
   "outputs": [],
   "source": [
    "class Node:\n",
    "    def __init__(self):\n",
    "        self.feature = None\n",
    "        self.split = None\n",
    "        # left/right is either a node or a value. If it's a value then this node\n",
    "        # is a leaf\n",
    "        self.left = None\n",
    "        self.right = None\n",
    "    def move(self, val):\n",
    "        \"\"\"Move to left or right by comparing sample value to the splitting point\"\"\"\n",
    "        if val <= self.split:\n",
    "            return self.left\n",
    "        else:\n",
    "            return self.right\n",
    "    def height(self):\n",
    "        \"\"\"Get the height of the tree rooted at this node\"\"\"\n",
    "        if isinstance(self.left, float):\n",
    "            return 1\n",
    "        else:\n",
    "            return 1 + max([self.left.height(), self.right.height()])"
   ]
  },
  {
   "cell_type": "markdown",
   "metadata": {},
   "source": [
    "### Decision Tree\n",
    "\n",
    "A basic ID3 decision tree model is no more than a wrapper class that holds a tree. During\n",
    "training phase, it deterministically constructs nodes one by one, picking the best\n",
    "splitting value of the best feature at each iteration. This process is greedy and\n",
    "exaustive. To make a prediction, it transverse through the entire tree based on samples'\n",
    "values at each feature, until a leaf is reached."
   ]
  },
  {
   "cell_type": "code",
   "execution_count": 7,
   "metadata": {},
   "outputs": [],
   "source": [
    "class DecisionTree:\n",
    "    def __init__(self):\n",
    "        self.root = None\n",
    "\n",
    "    def fit(self, df, features, target):\n",
    "        self.root = self._make_node(df, features, target)\n",
    "\n",
    "    def predict(self, df):\n",
    "        # transverse the tree for each data point\n",
    "        pred = df.apply(lambda row: self._transverse(self.root, row), axis=1)\n",
    "        return pred\n",
    "\n",
    "    def _best_feature(self, df, features, target):\n",
    "        \"\"\"\n",
    "        return the best feature given a set of feature values and a target.\n",
    "        Store everything in a dataframe and let user specify which feature\n",
    "        columns to use and which columns corresponds to the binary target\n",
    "        \"\"\"\n",
    "        best_split, best_entro, best_feature = None, None, None\n",
    "        # Try all features. At each iteration update the best option.\n",
    "        for feature in features:\n",
    "            this_split, this_entro = split_entropy(df[feature].tolist(), df[target])\n",
    "            if best_split is None or best_entro > this_entro:\n",
    "                best_split, best_entro, best_feature = this_split, this_entro, feature\n",
    "        return best_split, best_feature\n",
    "\n",
    "    def _make_node(self, df, features, target):\n",
    "        node = Node()\n",
    "        # Use the best splitting value of the best feature out of all.\n",
    "        node.split, node.feature = self._best_feature(df, features, target)\n",
    "        # Divide the samples into two subsets and use them to continue\n",
    "        # subtree construction\n",
    "        small_points = df[df[node.feature] <= node.split]\n",
    "        large_points = df[df[node.feature] > node.split]\n",
    "        # if No more split, return most frequent target value\n",
    "        if small_points.shape[0] == 0 or large_points.shape[0] == 0:\n",
    "            node.left = float(df[target].mode().iloc[0])\n",
    "            node.right = float(df[target].mode().iloc[0])\n",
    "        else:\n",
    "            node.left = self._make_node(small_points, features, target)\n",
    "            node.right = self._make_node(large_points, features, target)\n",
    "        return node\n",
    "\n",
    "    def _walk_node(self, node, row):\n",
    "        # Go to the next decision point or leaf\n",
    "        return node.move(row[node.feature])\n",
    "\n",
    "    def _transverse(self, node, row):\n",
    "        # Transverse nodes until a target (leaf) value is reached\n",
    "        next_location = self._walk_node(node, row)\n",
    "        while not isinstance(next_location, float):\n",
    "            next_location = self._walk_node(next_location, row)\n",
    "        return next_location\n",
    "\n",
    "    def depth(self):\n",
    "        return self.root.height()"
   ]
  },
  {
   "cell_type": "markdown",
   "metadata": {},
   "source": [
    "### Plant some trees\n",
    "\n",
    "Use above simple tree to fit breast cancer data, a binary classification problem"
   ]
  },
  {
   "cell_type": "code",
   "execution_count": 8,
   "metadata": {},
   "outputs": [
    {
     "data": {
      "text/plain": [
       "1    357\n",
       "0    212\n",
       "Name: target, dtype: int64"
      ]
     },
     "execution_count": 8,
     "metadata": {},
     "output_type": "execute_result"
    }
   ],
   "source": [
    "from sklearn.datasets import load_breast_cancer\n",
    "from sklearn.metrics import accuracy_score\n",
    "\n",
    "data = load_breast_cancer()\n",
    "df = pd.DataFrame(data['data'])\n",
    "columns = [c for c in df.columns]\n",
    "df['target'] = data['target']\n",
    "# Count values to make sure accuracy makes sense (balanced class)\n",
    "df['target'].value_counts()"
   ]
  },
  {
   "cell_type": "markdown",
   "metadata": {},
   "source": [
    "Fit the tree with the entire sample. This should create a HUGE tree that is 100% overfit and gives 100% accuracy, since the tree keeps making nodes until all samples are settled into homogeneous leaves."
   ]
  },
  {
   "cell_type": "code",
   "execution_count": 9,
   "metadata": {},
   "outputs": [],
   "source": [
    "tree = DecisionTree()\n",
    "tree.fit(df, features=columns, target='target')"
   ]
  },
  {
   "cell_type": "code",
   "execution_count": 10,
   "metadata": {},
   "outputs": [
    {
     "name": "stdout",
     "output_type": "stream",
     "text": [
      "Accuracy is 1.0\n",
      "Tree depth is 11\n"
     ]
    }
   ],
   "source": [
    "pred = tree.predict(df)\n",
    "acc = accuracy_score(y_pred=pred, y_true=df['target'])\n",
    "print(\"Accuracy is\", acc)\n",
    "print(\"Tree depth is\", tree.depth())"
   ]
  },
  {
   "cell_type": "markdown",
   "metadata": {},
   "source": [
    "Fit the tree with a subset of samples so that we can set aside test data. Compare performance\n",
    "on test vs training data to confirm overfitting."
   ]
  },
  {
   "cell_type": "code",
   "execution_count": 11,
   "metadata": {},
   "outputs": [
    {
     "name": "stdout",
     "output_type": "stream",
     "text": [
      "Accuracy is 0.83\n",
      "Tree depth is 10\n"
     ]
    }
   ],
   "source": [
    "tree = DecisionTree()\n",
    "train = df.head(200)\n",
    "test = df.tail(300)\n",
    "tree.fit(train, features=columns, target='target')\n",
    "pred = tree.predict(test)\n",
    "acc = accuracy_score(y_pred=pred, y_true=test['target'])\n",
    "print(\"Accuracy is\", acc)\n",
    "print(\"Tree depth is\", tree.depth())"
   ]
  },
  {
   "cell_type": "markdown",
   "metadata": {},
   "source": [
    "### Overcome overfitting\n",
    "\n",
    "There are many ways to avoid overfitting a tree, such as\n",
    " - Limit tree depth\n",
    " - Stop node construction once there are fewer than X number of samples in either split\n",
    " - Prune the tree later by removing leaves that do not contribute to prediction much\n",
    " - Use a subset of features\n",
    " - Fit on a subset of samples\n",
    " - Set a lower bound of information gain to continue node construction\n",
    " - Many more!\n",
    "\n",
    "Those are all trade-offs between bias and variation to avoid fitting on errors\n",
    "in the samples. Here's where a technique called `random forest` comes in. The general\n",
    "idea is that by creating a forest of trees and all of them to make prediction, then\n",
    "we mitigate overfitting. This is an ensemble method, where multiple estimators collectively\n",
    "make a decision on the outcome."
   ]
  },
  {
   "cell_type": "markdown",
   "metadata": {},
   "source": [
    "## A Simple Random Forest Model\n",
    "\n",
    "To demonstrate that random forest enhances the power of decision tree, let's implement\n",
    "a classifier with 100 trees. Instead of fitting all samples with all features, each\n",
    "tree is fed with 66% of traning samples and 2/3 of the features. See what happens"
   ]
  },
  {
   "cell_type": "code",
   "execution_count": 12,
   "metadata": {},
   "outputs": [],
   "source": [
    "class SimpleForest:\n",
    "    def __init__(self, n_trees=100):\n",
    "        self.trees = [DecisionTree() for _ in range(n_trees)]\n",
    "    \n",
    "    def fit(self, df, features, target):\n",
    "        for tree in self.trees:\n",
    "            subset = df.sample(frac=0.66)\n",
    "            sub_features = np.random.choice(features, int(2 * len(features) / 3))\n",
    "            tree.fit(subset, sub_features, target)\n",
    "    \n",
    "    def predict(self, df):\n",
    "        pred_list = [tree.predict(df) for tree in self.trees]\n",
    "        combined = pd.concat(pred_list, axis=1)\n",
    "        return combined.mode(axis=1).iloc[:, 0].tolist()"
   ]
  },
  {
   "cell_type": "markdown",
   "metadata": {},
   "source": [
    "The following will take a few minutes due to inefficient implementation"
   ]
  },
  {
   "cell_type": "code",
   "execution_count": 13,
   "metadata": {},
   "outputs": [],
   "source": [
    "forest = SimpleForest()\n",
    "forest.fit(train, features=columns, target='target')"
   ]
  },
  {
   "cell_type": "code",
   "execution_count": 14,
   "metadata": {},
   "outputs": [],
   "source": [
    "pred = forest.predict(test)"
   ]
  },
  {
   "cell_type": "code",
   "execution_count": 15,
   "metadata": {
    "scrolled": true
   },
   "outputs": [
    {
     "name": "stdout",
     "output_type": "stream",
     "text": [
      "Training accuracy of random forest: 1.0\n",
      "Training accuracy of decision tree: 1.0\n",
      "Test accuracy of random forest: 0.93\n",
      "Test accuracy of decision tree: 0.83\n"
     ]
    }
   ],
   "source": [
    "pred = forest.predict(train)\n",
    "acc = accuracy_score(y_pred=pred, y_true=train['target'])\n",
    "\n",
    "pred_tree = tree.predict(train)\n",
    "tree_acc = accuracy_score(y_pred=pred_tree, y_true=train['target'])\n",
    "\n",
    "print(\"Training accuracy of random forest:\", acc)\n",
    "print(\"Training accuracy of decision tree:\", tree_acc)\n",
    "\n",
    "pred = forest.predict(test)\n",
    "acc = accuracy_score(y_pred=pred, y_true=test['target'])\n",
    "\n",
    "pred_tree = tree.predict(test)\n",
    "tree_acc = accuracy_score(y_pred=pred_tree, y_true=test['target'])\n",
    "\n",
    "print(\"Test accuracy of random forest:\", acc)\n",
    "print(\"Test accuracy of decision tree:\", tree_acc)"
   ]
  },
  {
   "cell_type": "markdown",
   "metadata": {},
   "source": [
    "This data set is simple enough that random forest manages to get 100% accuracy on\n",
    "training samples and is still robust against unseen test samples. In most cases,\n",
    "it does not achieve 100% training accuracy, but that's not a problem and probably\n",
    "a good thing.\n",
    "\n",
    "Optimizations of decision tree can be used to random forest as well. Besides,\n",
    "random forest has additional optimization such as\n",
    " - Number of trees\n",
    " - Number of features to be sampled at each tree\n",
    " - How sampling is done for fitting each tree\n",
    " - Voting method at prediction time\n",
    " - Adding different weights to trees\n",
    " - More..."
   ]
  }
 ],
 "metadata": {
  "kernelspec": {
   "display_name": "Python [conda env:th]",
   "language": "python",
   "name": "conda-env-th-py"
  },
  "language_info": {
   "codemirror_mode": {
    "name": "ipython",
    "version": 3
   },
   "file_extension": ".py",
   "mimetype": "text/x-python",
   "name": "python",
   "nbconvert_exporter": "python",
   "pygments_lexer": "ipython3",
   "version": "3.7.0"
  }
 },
 "nbformat": 4,
 "nbformat_minor": 2
}
